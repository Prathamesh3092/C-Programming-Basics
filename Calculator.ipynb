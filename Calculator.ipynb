{
  "nbformat": 4,
  "nbformat_minor": 0,
  "metadata": {
    "colab": {
      "provenance": [],
      "authorship_tag": "ABX9TyMYcqLezKIZ83u3NZFESME4",
      "include_colab_link": true
    },
    "kernelspec": {
      "name": "python3",
      "display_name": "Python 3"
    },
    "language_info": {
      "name": "python"
    }
  },
  "cells": [
    {
      "cell_type": "markdown",
      "metadata": {
        "id": "view-in-github",
        "colab_type": "text"
      },
      "source": [
        "<a href=\"https://colab.research.google.com/github/Prathamesh3092/C-Programming-Basics/blob/master/Calculator.ipynb\" target=\"_parent\"><img src=\"https://colab.research.google.com/assets/colab-badge.svg\" alt=\"Open In Colab\"/></a>"
      ]
    },
    {
      "cell_type": "code",
      "execution_count": 1,
      "metadata": {
        "id": "s_U5tTuczshv"
      },
      "outputs": [],
      "source": [
        "#Designing a Simple Calculator"
      ]
    },
    {
      "cell_type": "code",
      "source": [
        "#Taking the User Input for the number\n",
        "num1 = int(input(\"Enter the first number: \"))\n",
        "num2 = int(input(\"Enter the second number: \"))\n",
        "\n",
        "#Operation choice for the user\n",
        "choice = input(\"Enter the operation to be performed(+,-,*,/): \")\n",
        "\n",
        "#Performing operations\n",
        "if choice == '+':\n",
        "  print(num1 + num2)\n",
        "elif choice == '-':\n",
        "  print(num1 - num2)\n",
        "elif choice == '*':\n",
        "  print(num1 * num2)\n",
        "elif choice == '/':\n",
        "  print(num1 / num2)\n",
        "else:\n",
        "  print(\"Invalid operation\")"
      ],
      "metadata": {
        "colab": {
          "base_uri": "https://localhost:8080/"
        },
        "id": "GkSMVSvK0WLU",
        "outputId": "b55b0f98-7919-458a-f8a2-7c1702fbffb7"
      },
      "execution_count": 2,
      "outputs": [
        {
          "output_type": "stream",
          "name": "stdout",
          "text": [
            "Enter the first number: 5\n",
            "Enter the second number: 10\n",
            "Enter the operation to be performed(+,-,*,/): *\n",
            "50\n"
          ]
        }
      ]
    }
  ]
}